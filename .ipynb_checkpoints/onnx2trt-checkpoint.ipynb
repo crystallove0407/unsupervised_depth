{
 "cells": [
  {
   "cell_type": "code",
   "execution_count": 3,
   "metadata": {},
   "outputs": [],
   "source": [
    "import os\n",
    "import PIL.Image as Image\n",
    "import numpy as np\n",
    "import time\n",
    "from onnx2trt import get_engine, allocate_buffers, do_inference"
   ]
  },
  {
   "cell_type": "code",
   "execution_count": 16,
   "metadata": {},
   "outputs": [
    {
     "name": "stdout",
     "output_type": "stream",
     "text": [
      "[info] Reading engine from file resnet18.plan\n",
      "638976 <class 'numpy.float32'>\n",
      "3328 <class 'numpy.float32'>\n",
      "13312 <class 'numpy.float32'>\n",
      "53248 <class 'numpy.float32'>\n",
      "212992 <class 'numpy.float32'>\n",
      "FPS: 366.7054853206036 TensorRT ok\n"
     ]
    }
   ],
   "source": [
    "model_name = \"resnet18\"\n",
    "onnx_path = os.path.join(\"/work\", \n",
    "                          \"garin0115\", \n",
    "                          \"models\", \n",
    "                          model_name+\"_256x832\", \n",
    "                          \"models\", \n",
    "                          \"weights_19\", \n",
    "                          model_name+\".onnx\")\n",
    "\n",
    "engine = get_engine(fp16_mode=True, onnx_file_path=onnx_path, engine_file_path=model_name+\".plan\", save_engine=True)\n",
    "\n",
    "# Create the context for this engine\n",
    "context = engine.create_execution_context()\n",
    "\n",
    "# Allocate buffers for input and output\n",
    "inputs, outputs, bindings, stream = allocate_buffers(engine) # input, output: host # bindings\n",
    "\n",
    "\n",
    "# Load data to the buffer\n",
    "image_path = \"assets/test_image.jpg\"\n",
    "input_image = Image.open(image_path).convert('RGB').resize((832, 256), Image.LANCZOS)\n",
    "input_image = np.array(input_image).transpose((2, 0, 1)).astype(np.float16) / 255.\n",
    "input_image = np.expand_dims(input_image, axis=0)\n",
    "inputs[0].host = input_image.reshape(-1)\n",
    "\n",
    "# inputs[1].host = ... for multiple input\n",
    "t1 = time.time()\n",
    "for i in range(10):\n",
    "    trt_outputs = do_inference(context, bindings=bindings, inputs=inputs, outputs=outputs, stream=stream) # numpy data\n",
    "t2 = time.time()\n",
    "\n",
    "\n",
    "print(\"FPS: {}\".format(10/(t2-t1)), 'TensorRT ok')"
   ]
  },
  {
   "cell_type": "code",
   "execution_count": null,
   "metadata": {},
   "outputs": [],
   "source": []
  }
 ],
 "metadata": {
  "kernelspec": {
   "display_name": "Python 3",
   "language": "python",
   "name": "python3"
  },
  "language_info": {
   "codemirror_mode": {
    "name": "ipython",
    "version": 3
   },
   "file_extension": ".py",
   "mimetype": "text/x-python",
   "name": "python",
   "nbconvert_exporter": "python",
   "pygments_lexer": "ipython3",
   "version": "3.6.9"
  }
 },
 "nbformat": 4,
 "nbformat_minor": 4
}
