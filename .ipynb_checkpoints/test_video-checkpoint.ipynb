{
 "cells": [
  {
   "cell_type": "code",
   "execution_count": 1,
   "metadata": {},
   "outputs": [],
   "source": [
    "import cv2\n",
    "import os\n",
    "import numpy as np\n",
    "from random import shuffle\n",
    "import glob"
   ]
  },
  {
   "cell_type": "code",
   "execution_count": 24,
   "metadata": {},
   "outputs": [
    {
     "data": {
      "text/plain": [
       "torch.return_types.min(\n",
       "values=tensor([1, 1, 2, 2, 2]),\n",
       "indices=tensor([0, 0, 1, 1, 1]))"
      ]
     },
     "execution_count": 24,
     "metadata": {},
     "output_type": "execute_result"
    }
   ],
   "source": [
    "import torch\n",
    "import torch.nn as nn\n",
    "a = torch.tensor([[1, 1, 3, 3, 5]])\n",
    "b = torch.tensor([[2, 2, 2, 2, 2]])\n",
    "c = torch.cat([a, b], 0)\n",
    "m = torch.min(c, 0)\n",
    "m"
   ]
  },
  {
   "cell_type": "code",
   "execution_count": 41,
   "metadata": {},
   "outputs": [],
   "source": [
    "class SSIM(nn.Module):\n",
    "    \"\"\"Layer to compute the SSIM loss between a pair of images\n",
    "    \"\"\"\n",
    "    def __init__(self):\n",
    "        super(SSIM, self).__init__()\n",
    "        self.mu_x_pool   = nn.AvgPool2d(3, 1)\n",
    "        self.mu_y_pool   = nn.AvgPool2d(3, 1)\n",
    "        self.sig_x_pool  = nn.AvgPool2d(3, 1)\n",
    "        self.sig_y_pool  = nn.AvgPool2d(3, 1)\n",
    "        self.sig_xy_pool = nn.AvgPool2d(3, 1)\n",
    "\n",
    "        self.refl = nn.ReflectionPad2d(1)\n",
    "\n",
    "        self.C1 = 0.01 ** 2\n",
    "        self.C2 = 0.03 ** 2\n",
    "\n",
    "    def forward(self, x, y):\n",
    "        x = self.refl(x)\n",
    "        y = self.refl(y)\n",
    "\n",
    "        mu_x = self.mu_x_pool(x)\n",
    "        mu_y = self.mu_y_pool(y)\n",
    "\n",
    "        sigma_x  = self.sig_x_pool(x ** 2) - mu_x ** 2\n",
    "        sigma_y  = self.sig_y_pool(y ** 2) - mu_y ** 2\n",
    "        sigma_xy = self.sig_xy_pool(x * y) - mu_x * mu_y\n",
    "\n",
    "        SSIM_n = (2 * mu_x * mu_y + self.C1) * (2 * sigma_xy + self.C2)\n",
    "        SSIM_d = (mu_x ** 2 + mu_y ** 2 + self.C1) * (sigma_x + sigma_y + self.C2)\n",
    "        res = torch.clamp((1 - SSIM_n / SSIM_d) / 2, 0, 1)\n",
    "        return res\n",
    "\n",
    "def compute_reprojection_loss(pred, target):\n",
    "        \"\"\"Computes reprojection loss between a batch of predicted and target images\n",
    "        \"\"\"\n",
    "        abs_diff = torch.abs(target - pred)\n",
    "        l1_loss = abs_diff.mean(1, True)\n",
    "        print(l1_loss.shape)\n",
    "\n",
    "        ssim_loss = SSIM()(pred, target).mean(1, True)\n",
    "        reprojection_loss = 0.85 * ssim_loss + 0.15 * l1_loss\n",
    "        print(reprojection_loss.shape)\n",
    "        return reprojection_loss"
   ]
  },
  {
   "cell_type": "code",
   "execution_count": 37,
   "metadata": {},
   "outputs": [],
   "source": [
    "pred = torch.rand(8, 3, 256, 832)\n",
    "target = torch.rand(8, 1, 256, 832)"
   ]
  },
  {
   "cell_type": "code",
   "execution_count": 46,
   "metadata": {},
   "outputs": [
    {
     "name": "stdout",
     "output_type": "stream",
     "text": [
      "torch.Size([8, 1, 256, 832])\n",
      "torch.Size([8, 1, 256, 832])\n"
     ]
    }
   ],
   "source": [
    "result = compute_reprojection_loss(pred[:, :, :256//3, :], target[:, :, :, :])"
   ]
  },
  {
   "cell_type": "markdown",
   "metadata": {},
   "source": [
    "# Frame2video "
   ]
  },
  {
   "cell_type": "code",
   "execution_count": null,
   "metadata": {},
   "outputs": [],
   "source": [
    "# 選擇要建立 video 的 data [TODO]\n",
    "file_name = '2011_10_03/2011_10_03_drive_0047_sync'\n",
    "# file_name = '2011_09_30/2011_09_30_drive_0016_sync'\n",
    "# file_name = '2011_09_29/2011_09_29_drive_0026_sync'\n",
    "# file_name = '2011_09_28/2011_09_28_drive_0037_sync'\n",
    "# file_name = '2011_09_26/2011_09_26_drive_0036_sync'\n",
    "# file_name = '2011_09_26/2011_09_26_drive_0023_sync'\n",
    "# file_name = '2011_09_26/2011_09_26_drive_0020_sync'\n",
    "# file_name = '2011_09_26/2011_09_26_drive_0013_sync'\n",
    "# file_name = '2011_09_26/2011_09_26_drive_0002_sync'\n",
    "\n",
    "# 選擇影片輸出資料夾 [TODO]\n",
    "video_output_folder = os.path.join(os.path.expanduser(\"~\"), \n",
    "                                                      \"depth\",\n",
    "                                                      \"monodepth2\",\n",
    "                                                      \"video_result\")\n",
    "\n",
    "# 取得資料夾中所有影像檔案路徑\n",
    "kitti_depth_folder = '/work/garin0115/datasets/kitti_data/'+file_name+'/image_02'\n",
    "filenames = glob.glob(kitti_depth_folder+'/*/*.jpg')\n",
    "\n",
    "# 將檔案路徑排序\n",
    "filenames.sort()\n",
    "print(\"Total images: {}\".format(len(filenames)))"
   ]
  },
  {
   "cell_type": "code",
   "execution_count": null,
   "metadata": {},
   "outputs": [],
   "source": [
    "fourcc = cv2.VideoWriter_fourcc(*'XVID')\n",
    "out = cv2.VideoWriter(video_output_folder+'/raw_{}.avi'.format(file_name.split('/')[-1]), fourcc, 15.0, (1238, 374))\n",
    "\n",
    "for dataIter, data_path in enumerate(filenames):\n",
    "\n",
    "    print('\\r processing '+str(dataIter), end='')\n",
    "    print('\\r {}'.format(data_path), end='')\n",
    "  \n",
    "    # Get data path\n",
    "    image = cv2.imread(data_path)\n",
    "    image = cv2.resize(image, (1238, 374))\n",
    "    image = np.array(image, dtype = np.uint8)\n",
    "    \n",
    "    # Write video frame\n",
    "    out.write(image)\n",
    "out.release()\n",
    "print('\\nVideo Record Successed!')"
   ]
  },
  {
   "cell_type": "code",
   "execution_count": null,
   "metadata": {},
   "outputs": [],
   "source": []
  }
 ],
 "metadata": {
  "kernelspec": {
   "display_name": "Python 3",
   "language": "python",
   "name": "python3"
  },
  "language_info": {
   "codemirror_mode": {
    "name": "ipython",
    "version": 3
   },
   "file_extension": ".py",
   "mimetype": "text/x-python",
   "name": "python",
   "nbconvert_exporter": "python",
   "pygments_lexer": "ipython3",
   "version": "3.6.9"
  }
 },
 "nbformat": 4,
 "nbformat_minor": 4
}
